{
  "nbformat": 4,
  "nbformat_minor": 0,
  "metadata": {
    "colab": {
      "provenance": [],
      "authorship_tag": "ABX9TyOvOUpeTLfF5duskg/ZS9UT",
      "include_colab_link": true
    },
    "kernelspec": {
      "name": "python3",
      "display_name": "Python 3"
    },
    "language_info": {
      "name": "python"
    }
  },
  "cells": [
    {
      "cell_type": "markdown",
      "metadata": {
        "id": "view-in-github",
        "colab_type": "text"
      },
      "source": [
        "<a href=\"https://colab.research.google.com/github/AyushiKashyapp/movie_question_answering_neo4j/blob/main/QandAusingNeo4j.ipynb\" target=\"_parent\"><img src=\"https://colab.research.google.com/assets/colab-badge.svg\" alt=\"Open In Colab\"/></a>"
      ]
    },
    {
      "cell_type": "markdown",
      "source": [
        "# Movie Question Answering System using Neo4j Knowledge Database\n"
      ],
      "metadata": {
        "id": "8FQDJJTdKC3J"
      }
    },
    {
      "cell_type": "markdown",
      "source": [
        "*Reference*: [Tutorial](https://www.youtube.com/watch?v=dRO43qnkNqg&list=PLreVlKwe2Z0Sf3lEsAJ0E7kv60vdhnUR7&index=3&ab_channel=BhaveshBhatt)"
      ],
      "metadata": {
        "id": "1SAZSovHJq7T"
      }
    },
    {
      "cell_type": "markdown",
      "source": [
        "**Installing required libraries**\n",
        "\n",
        "- neo4j-driver  : To connect with the neo4j movie data sandbox.\n",
        "- gradio        : To build a demo or web application for question answering chat system."
      ],
      "metadata": {
        "id": "0JXqVQ8KKuUl"
      }
    },
    {
      "cell_type": "code",
      "execution_count": 1,
      "metadata": {
        "colab": {
          "base_uri": "https://localhost:8080/"
        },
        "collapsed": true,
        "id": "0Rzky4tzE_x0",
        "outputId": "22bb8684-e063-4bab-a7f8-40d6768215bf"
      },
      "outputs": [
        {
          "output_type": "stream",
          "name": "stdout",
          "text": [
            "\u001b[2K     \u001b[90m━━━━━━━━━━━━━━━━━━━━━━━━━━━━━━━━━━━━━━━━\u001b[0m \u001b[32m208.3/208.3 kB\u001b[0m \u001b[31m2.4 MB/s\u001b[0m eta \u001b[36m0:00:00\u001b[0m\n",
            "\u001b[?25h  Installing build dependencies ... \u001b[?25l\u001b[?25hdone\n",
            "  Getting requirements to build wheel ... \u001b[?25l\u001b[?25hdone\n",
            "  Installing backend dependencies ... \u001b[?25l\u001b[?25hdone\n",
            "  Preparing metadata (pyproject.toml) ... \u001b[?25l\u001b[?25hdone\n",
            "  Building wheel for neo4j-driver (pyproject.toml) ... \u001b[?25l\u001b[?25hdone\n",
            "\u001b[2K     \u001b[90m━━━━━━━━━━━━━━━━━━━━━━━━━━━━━━━━━━━━━━━━\u001b[0m \u001b[32m12.3/12.3 MB\u001b[0m \u001b[31m32.3 MB/s\u001b[0m eta \u001b[36m0:00:00\u001b[0m\n",
            "\u001b[2K     \u001b[90m━━━━━━━━━━━━━━━━━━━━━━━━━━━━━━━━━━━━━━━━\u001b[0m \u001b[32m92.0/92.0 kB\u001b[0m \u001b[31m10.6 MB/s\u001b[0m eta \u001b[36m0:00:00\u001b[0m\n",
            "\u001b[?25h  Preparing metadata (setup.py) ... \u001b[?25l\u001b[?25hdone\n",
            "\u001b[2K     \u001b[90m━━━━━━━━━━━━━━━━━━━━━━━━━━━━━━━━━━━━━━━━\u001b[0m \u001b[32m318.1/318.1 kB\u001b[0m \u001b[31m24.0 MB/s\u001b[0m eta \u001b[36m0:00:00\u001b[0m\n",
            "\u001b[2K     \u001b[90m━━━━━━━━━━━━━━━━━━━━━━━━━━━━━━━━━━━━━━━━\u001b[0m \u001b[32m75.6/75.6 kB\u001b[0m \u001b[31m9.1 MB/s\u001b[0m eta \u001b[36m0:00:00\u001b[0m\n",
            "\u001b[2K     \u001b[90m━━━━━━━━━━━━━━━━━━━━━━━━━━━━━━━━━━━━━━━━\u001b[0m \u001b[32m145.0/145.0 kB\u001b[0m \u001b[31m14.0 MB/s\u001b[0m eta \u001b[36m0:00:00\u001b[0m\n",
            "\u001b[2K     \u001b[90m━━━━━━━━━━━━━━━━━━━━━━━━━━━━━━━━━━━━━━━━\u001b[0m \u001b[32m8.8/8.8 MB\u001b[0m \u001b[31m66.4 MB/s\u001b[0m eta \u001b[36m0:00:00\u001b[0m\n",
            "\u001b[2K     \u001b[90m━━━━━━━━━━━━━━━━━━━━━━━━━━━━━━━━━━━━━━━━\u001b[0m \u001b[32m62.4/62.4 kB\u001b[0m \u001b[31m7.3 MB/s\u001b[0m eta \u001b[36m0:00:00\u001b[0m\n",
            "\u001b[2K     \u001b[90m━━━━━━━━━━━━━━━━━━━━━━━━━━━━━━━━━━━━━━━━\u001b[0m \u001b[32m129.9/129.9 kB\u001b[0m \u001b[31m14.0 MB/s\u001b[0m eta \u001b[36m0:00:00\u001b[0m\n",
            "\u001b[2K     \u001b[90m━━━━━━━━━━━━━━━━━━━━━━━━━━━━━━━━━━━━━━━━\u001b[0m \u001b[32m77.9/77.9 kB\u001b[0m \u001b[31m9.4 MB/s\u001b[0m eta \u001b[36m0:00:00\u001b[0m\n",
            "\u001b[2K     \u001b[90m━━━━━━━━━━━━━━━━━━━━━━━━━━━━━━━━━━━━━━━━\u001b[0m \u001b[32m58.3/58.3 kB\u001b[0m \u001b[31m7.9 MB/s\u001b[0m eta \u001b[36m0:00:00\u001b[0m\n",
            "\u001b[2K     \u001b[90m━━━━━━━━━━━━━━━━━━━━━━━━━━━━━━━━━━━━━━━━\u001b[0m \u001b[32m71.9/71.9 kB\u001b[0m \u001b[31m9.1 MB/s\u001b[0m eta \u001b[36m0:00:00\u001b[0m\n",
            "\u001b[2K     \u001b[90m━━━━━━━━━━━━━━━━━━━━━━━━━━━━━━━━━━━━━━━━\u001b[0m \u001b[32m53.6/53.6 kB\u001b[0m \u001b[31m6.2 MB/s\u001b[0m eta \u001b[36m0:00:00\u001b[0m\n",
            "\u001b[2K     \u001b[90m━━━━━━━━━━━━━━━━━━━━━━━━━━━━━━━━━━━━━━━━\u001b[0m \u001b[32m307.7/307.7 kB\u001b[0m \u001b[31m28.9 MB/s\u001b[0m eta \u001b[36m0:00:00\u001b[0m\n",
            "\u001b[2K     \u001b[90m━━━━━━━━━━━━━━━━━━━━━━━━━━━━━━━━━━━━━━━━\u001b[0m \u001b[32m341.4/341.4 kB\u001b[0m \u001b[31m31.9 MB/s\u001b[0m eta \u001b[36m0:00:00\u001b[0m\n",
            "\u001b[2K     \u001b[90m━━━━━━━━━━━━━━━━━━━━━━━━━━━━━━━━━━━━━━━━\u001b[0m \u001b[32m3.4/3.4 MB\u001b[0m \u001b[31m67.0 MB/s\u001b[0m eta \u001b[36m0:00:00\u001b[0m\n",
            "\u001b[2K     \u001b[90m━━━━━━━━━━━━━━━━━━━━━━━━━━━━━━━━━━━━━━━━\u001b[0m \u001b[32m1.2/1.2 MB\u001b[0m \u001b[31m67.6 MB/s\u001b[0m eta \u001b[36m0:00:00\u001b[0m\n",
            "\u001b[?25h  Building wheel for ffmpy (setup.py) ... \u001b[?25l\u001b[?25hdone\n"
          ]
        }
      ],
      "source": [
        "!pip install -q neo4j-driver\n",
        "!pip install -q gradio"
      ]
    },
    {
      "cell_type": "code",
      "source": [
        "from neo4j import GraphDatabase\n",
        "import spacy\n",
        "import gradio as gr"
      ],
      "metadata": {
        "id": "M27mSva_Fwbc"
      },
      "execution_count": 2,
      "outputs": []
    },
    {
      "cell_type": "markdown",
      "source": [
        "# Cypher Querying to analyse the Movies Database"
      ],
      "metadata": {
        "id": "L6Ak339XTMMT"
      }
    },
    {
      "cell_type": "markdown",
      "source": [
        "**Get a list of all movies in database with their release date**"
      ],
      "metadata": {
        "id": "61UPOnlxTSAT"
      }
    },
    {
      "cell_type": "code",
      "source": [
        "from neo4j import GraphDatabase, basic_auth\n",
        "\n",
        "# Creating a driver object to connect to the Neo4j database, using the Bolt protocol (indicated by bolt://) to the specified IP address and port.\n",
        "driver = GraphDatabase.driver(\n",
        "  \"bolt://3.84.44.98:7687\",\n",
        "  auth=basic_auth(\"neo4j\", \"death-assistance-affair\"))\n",
        "\n",
        "# Matching a movie node to get a list of all movies in database with their release date\n",
        "cypher_query = '''\n",
        "MATCH (movie:Movie)\n",
        " RETURN movie.title as title, movie.released as release_date\n",
        " ORDER BY movie.released\n",
        "'''\n",
        "# Opens a session with the database named \"neo4j\". Execute the Cypher Query with read transcation and convert the result into a list of dictionaries using data().\n",
        "with driver.session(database=\"neo4j\") as session:\n",
        "  result = session.read_transaction(lambda tx: tx.run(cypher_query).data())\n",
        "  for movies in result:\n",
        "    print(f\"The movie, {movies['title']} was released in {movies['release_date']}\")\n",
        "\n",
        "driver.close()"
      ],
      "metadata": {
        "colab": {
          "base_uri": "https://localhost:8080/"
        },
        "id": "fovYReRCTT98",
        "outputId": "f0c37da9-934f-449c-8a2a-a4770aad882f"
      },
      "execution_count": 14,
      "outputs": [
        {
          "output_type": "stream",
          "name": "stderr",
          "text": [
            "<ipython-input-14-59dc826a3486>:16: DeprecationWarning: read_transaction has been renamed to execute_read\n",
            "  result = session.read_transaction(lambda tx: tx.run(cypher_query).data())\n"
          ]
        },
        {
          "output_type": "stream",
          "name": "stdout",
          "text": [
            "The movie, One Flew Over the Cuckoo's Nest was released in 1975\n",
            "The movie, Top Gun was released in 1986\n",
            "The movie, Stand By Me was released in 1986\n",
            "The movie, Joe Versus the Volcano was released in 1990\n",
            "The movie, A Few Good Men was released in 1992\n",
            "The movie, Unforgiven was released in 1992\n",
            "The movie, Hoffa was released in 1992\n",
            "The movie, A League of Their Own was released in 1992\n",
            "The movie, Sleepless in Seattle was released in 1993\n",
            "The movie, Johnny Mnemonic was released in 1995\n",
            "The movie, Apollo 13 was released in 1995\n",
            "The movie, That Thing You Do was released in 1996\n",
            "The movie, The Birdcage was released in 1996\n",
            "The movie, Twister was released in 1996\n",
            "The movie, The Devil's Advocate was released in 1997\n",
            "The movie, As Good as It Gets was released in 1997\n",
            "The movie, What Dreams May Come was released in 1998\n",
            "The movie, You've Got Mail was released in 1998\n",
            "The movie, When Harry Met Sally was released in 1998\n",
            "The movie, The Matrix was released in 1999\n",
            "The movie, Snow Falling on Cedars was released in 1999\n",
            "The movie, The Green Mile was released in 1999\n",
            "The movie, Bicentennial Man was released in 1999\n",
            "The movie, Jerry Maguire was released in 2000\n",
            "The movie, The Replacements was released in 2000\n",
            "The movie, Cast Away was released in 2000\n",
            "The movie, The Matrix Reloaded was released in 2003\n",
            "The movie, The Matrix Revolutions was released in 2003\n",
            "The movie, Something's Gotta Give was released in 2003\n",
            "The movie, The Polar Express was released in 2004\n",
            "The movie, RescueDawn was released in 2006\n",
            "The movie, The Da Vinci Code was released in 2006\n",
            "The movie, V for Vendetta was released in 2006\n",
            "The movie, Charlie Wilson's War was released in 2007\n",
            "The movie, Speed Racer was released in 2008\n",
            "The movie, Frost/Nixon was released in 2008\n",
            "The movie, Ninja Assassin was released in 2009\n",
            "The movie, Cloud Atlas was released in 2012\n"
          ]
        }
      ]
    },
    {
      "cell_type": "markdown",
      "source": [
        "**A list of all the actors in \"The matrix\".**"
      ],
      "metadata": {
        "id": "e-90ZC2zV3iY"
      }
    },
    {
      "cell_type": "code",
      "source": [
        "from neo4j import GraphDatabase, basic_auth\n",
        "\n",
        "# Creating a driver object to connect to the Neo4j database, using the Bolt protocol (indicated by bolt://) to the specified IP address and port.\n",
        "driver = GraphDatabase.driver(\n",
        "  \"bolt://3.84.44.98:7687\",\n",
        "  auth=basic_auth(\"neo4j\", \"death-assistance-affair\"))\n",
        "\n",
        "# Matching a movie node with the specified title (passed as a parameter $favorite), finds actors who acted in this movie, and then finds other movies that those actors have also acted in.\n",
        "cypher_query = '''\n",
        "MATCH (actor:Person)-[:ACTED_IN]->(movie:Movie {title: \"The Matrix\"})\n",
        "RETURN actor.name as actor_name\n",
        "'''\n",
        "# Opens a session with the database named \"neo4j\". Execute the Cypher Query with read transcation and convert the result into a list of dictionaries using data().\n",
        "with driver.session(database=\"neo4j\") as session:\n",
        "  result = session.read_transaction(lambda tx: tx.run(cypher_query).data())\n",
        "  for actor in result:\n",
        "    print(actor)\n",
        "\n",
        "driver.close()"
      ],
      "metadata": {
        "colab": {
          "base_uri": "https://localhost:8080/"
        },
        "id": "c8VVdJXFWfOu",
        "outputId": "a303bdea-98e2-4526-f805-5ceb105fc055"
      },
      "execution_count": 16,
      "outputs": [
        {
          "output_type": "stream",
          "name": "stderr",
          "text": [
            "<ipython-input-16-ae094dedc4d3>:15: DeprecationWarning: read_transaction has been renamed to execute_read\n",
            "  result = session.read_transaction(lambda tx: tx.run(cypher_query).data())\n"
          ]
        },
        {
          "output_type": "stream",
          "name": "stdout",
          "text": [
            "{'actor_name': 'Emil Eifrem'}\n",
            "{'actor_name': 'Hugo Weaving'}\n",
            "{'actor_name': 'Laurence Fishburne'}\n",
            "{'actor_name': 'Carrie-Anne Moss'}\n",
            "{'actor_name': 'Keanu Reeves'}\n"
          ]
        }
      ]
    },
    {
      "cell_type": "code",
      "source": [
        "from neo4j import GraphDatabase, basic_auth\n",
        "\n",
        "# Creating a driver object to connect to the Neo4j database, using the Bolt protocol (indicated by bolt://) to the specified IP address and port.\n",
        "driver = GraphDatabase.driver(\n",
        "  \"bolt://3.84.44.98:7687\",\n",
        "  auth=basic_auth(\"neo4j\", \"death-assistance-affair\"))\n",
        "\n",
        "# Matching a movie node with the specified title (passed as a parameter $favorite), finds actors who acted in this movie, and then finds other movies that those actors have also acted in.\n",
        "cypher_query = '''\n",
        "MATCH (movie:Movie {title:$favorite})<-[:ACTED_IN]-(actor)-[:ACTED_IN]->(rec:Movie)\n",
        " RETURN distinct rec.title as title LIMIT 20\n",
        "'''\n",
        "# Opens a session with the database named \"neo4j\". Execute the Cypher Query with read transcation and convert the result into a list of dictionaries using data().\n",
        "with driver.session(database=\"neo4j\") as session:\n",
        "  results = session.read_transaction(\n",
        "    lambda tx: tx.run(cypher_query,\n",
        "                      favorite=\"The Matrix\").data())\n",
        "  for record in results:\n",
        "    print(record['title'])\n",
        "\n",
        "driver.close()\n"
      ],
      "metadata": {
        "colab": {
          "base_uri": "https://localhost:8080/"
        },
        "id": "3nu8M6GPF1Zw",
        "outputId": "56f65066-97e9-4491-fae4-1a786bfea575"
      },
      "execution_count": 5,
      "outputs": [
        {
          "output_type": "stream",
          "name": "stderr",
          "text": [
            "<ipython-input-5-f531279118b1>:13: DeprecationWarning: read_transaction has been renamed to execute_read\n",
            "  results = session.read_transaction(\n"
          ]
        },
        {
          "output_type": "stream",
          "name": "stdout",
          "text": [
            "Cloud Atlas\n",
            "V for Vendetta\n",
            "The Matrix Revolutions\n",
            "The Matrix Reloaded\n",
            "Something's Gotta Give\n",
            "The Replacements\n",
            "Johnny Mnemonic\n",
            "The Devil's Advocate\n"
          ]
        }
      ]
    },
    {
      "cell_type": "markdown",
      "source": [
        "# ChatBot\n",
        "\n",
        "A chatbot to answer the questions about the release dates of the movies mentioned in the questions by the user.\n",
        "\n",
        "**Loading the spacy model \"en_core_web_sm\"**"
      ],
      "metadata": {
        "id": "_3E8p1tFNX8I"
      }
    },
    {
      "cell_type": "code",
      "source": [
        "nlp = spacy.load(\"en_core_web_sm\")"
      ],
      "metadata": {
        "id": "GSjrjSXzF9BE"
      },
      "execution_count": 4,
      "outputs": []
    },
    {
      "cell_type": "markdown",
      "source": [
        "**A function to extract entities out of the questions asked about the movies.**"
      ],
      "metadata": {
        "id": "3Ch5C0TIO6KI"
      }
    },
    {
      "cell_type": "code",
      "source": [
        "def extract_entity(question, entity_type):\n",
        "  doc = nlp(question) # Processing the input text using the NLP Model spacy, and storing the extracted entities in a doc object.\n",
        "  for ent in doc.ents: # Iterating over all the entities.\n",
        "    if ent.label_ in entity_type: #Checking if the label of the entity matches the type of entity type (e.g., \"PERSON\", \"ORG\", etc.). .\n",
        "      return ent.text  #Returning actual substring from the input text that was recognized as an entity.\n",
        "  return None"
      ],
      "metadata": {
        "id": "GsUNbgB_F_iv"
      },
      "execution_count": 7,
      "outputs": []
    },
    {
      "cell_type": "markdown",
      "source": [
        "**A function to get the answers for the questions and keep the history of questions and their answers.**"
      ],
      "metadata": {
        "id": "uTv8bjGISZy1"
      }
    },
    {
      "cell_type": "code",
      "source": [
        "def chatbot(input, history = []):\n",
        "  output = get_answer(input) #Calling the getanswer function on the input text (question).\n",
        "  history.append((input, output)) #Appends a tuple of the input and the generated output to the conversation history.\n",
        "  return history, history"
      ],
      "metadata": {
        "id": "dbNbeG3xGZ0j"
      },
      "execution_count": 8,
      "outputs": []
    },
    {
      "cell_type": "markdown",
      "source": [
        "**A function to match the movie in the question with the movies in Neo4j DB and return the respective release date.**"
      ],
      "metadata": {
        "id": "iPFnQ-hbSkLb"
      }
    },
    {
      "cell_type": "code",
      "source": [
        "def get_answer(question):\n",
        "    doc = nlp(question) #Processing the input text using an NLP model, spacy.\n",
        "    movie_title = extract_entity(question, [\"WORK_OF_ART\", \"MOVIE\"]) #Extracting movie title from the question (entities with label as \"WORK_OF_ART\", \"MOVIE\")\n",
        "    director_name = extract_entity(question, [\"PERSON\"]) #Extracting the director name from the question (entities with label as PERSON)\n",
        "    if movie_title is None:\n",
        "        return \"Sorry, I don't understand what movie you're asking about.\" #Default response if movie title is not found in the question text.\n",
        "\n",
        "    with driver.session() as session: #Opening a session with Neo4j\n",
        "        if \"release\" in question or \"released\" in question: #Check if the question is about release of the movie.\n",
        "            result = session.run(f\"MATCH (m:Movie) WHERE m.title = '{movie_title}' RETURN m.released\") #Cypher query to find the release date of the specified movie.\n",
        "            if result.peek() is None: #Checking if the query returned any result.\n",
        "                return f\"No information found for the movie '{movie_title}'\"\n",
        "            for record in result:\n",
        "                return f\"The release date of '{movie_title}' is: {record['m.released']}\" #Return result if the movie in the question is found.\n",
        "        else:\n",
        "            return \"Sorry, I don't understand what you're asking.\""
      ],
      "metadata": {
        "id": "-nT5hLASGm3B"
      },
      "execution_count": 9,
      "outputs": []
    },
    {
      "cell_type": "markdown",
      "source": [
        "**Using gradio interface to launch a web interface for question inputs and answer outputs.**"
      ],
      "metadata": {
        "id": "PRFOK6GQS-6f"
      }
    },
    {
      "cell_type": "code",
      "source": [
        "gr.Interface(fn = chatbot,\n",
        "             inputs = [\"text\",'state'],\n",
        "             outputs = [\"chatbot\",'state']).launch(debug = True)"
      ],
      "metadata": {
        "colab": {
          "base_uri": "https://localhost:8080/",
          "height": 722
        },
        "id": "-cE9dTX_G43c",
        "outputId": "3d9aca8b-8861-48ec-9785-bc02f9cd8f6d"
      },
      "execution_count": 10,
      "outputs": [
        {
          "output_type": "stream",
          "name": "stdout",
          "text": [
            "Setting queue=True in a Colab notebook requires sharing enabled. Setting `share=True` (you can turn this off by setting `share=False` in `launch()` explicitly).\n",
            "\n",
            "Colab notebook detected. This cell will run indefinitely so that you can see errors and logs. To turn off, set debug=False in launch().\n",
            "Running on public URL: https://c57803d67cc6329527.gradio.live\n",
            "\n",
            "This share link expires in 72 hours. For free permanent hosting and GPU upgrades, run `gradio deploy` from Terminal to deploy to Spaces (https://huggingface.co/spaces)\n"
          ]
        },
        {
          "output_type": "display_data",
          "data": {
            "text/plain": [
              "<IPython.core.display.HTML object>"
            ],
            "text/html": [
              "<div><iframe src=\"https://c57803d67cc6329527.gradio.live\" width=\"100%\" height=\"500\" allow=\"autoplay; camera; microphone; clipboard-read; clipboard-write;\" frameborder=\"0\" allowfullscreen></iframe></div>"
            ]
          },
          "metadata": {}
        },
        {
          "output_type": "stream",
          "name": "stderr",
          "text": [
            "<ipython-input-9-51707130cea9>:8: DeprecationWarning: Using a driver after it has been closed is deprecated. Future versions of the driver will raise an error.\n",
            "  with driver.session() as session:\n"
          ]
        },
        {
          "output_type": "stream",
          "name": "stdout",
          "text": [
            "Keyboard interruption in main thread... closing server.\n",
            "Killing tunnel 127.0.0.1:7860 <> https://c57803d67cc6329527.gradio.live\n"
          ]
        },
        {
          "output_type": "execute_result",
          "data": {
            "text/plain": []
          },
          "metadata": {},
          "execution_count": 10
        }
      ]
    }
  ]
}